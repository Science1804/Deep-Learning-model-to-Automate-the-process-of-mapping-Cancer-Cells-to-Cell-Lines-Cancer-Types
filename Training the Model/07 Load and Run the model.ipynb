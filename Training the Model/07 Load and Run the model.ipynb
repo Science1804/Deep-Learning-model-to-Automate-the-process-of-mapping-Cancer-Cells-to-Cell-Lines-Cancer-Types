{
 "cells": [
  {
   "cell_type": "code",
   "execution_count": 2,
   "id": "c7c2d134",
   "metadata": {},
   "outputs": [],
   "source": [
    "import tensorflow as tf\n",
    "import numpy as np\n",
    "import pandas as pd\n",
    "import os \n",
    "import matplotlib.pyplot as plt\n",
    "from tensorflow.keras.utils import to_categorical"
   ]
  },
  {
   "cell_type": "code",
   "execution_count": 3,
   "id": "deaddfbb",
   "metadata": {},
   "outputs": [],
   "source": [
    "lab1_arr = np.load('lab1_arr.npy')\n",
    "lab2_arr = np.load('lab2_arr.npy')"
   ]
  },
  {
   "cell_type": "code",
   "execution_count": 4,
   "id": "1da684cb",
   "metadata": {},
   "outputs": [],
   "source": [
    "test_features = np.load('test_features_s.npy');\n"
   ]
  },
  {
   "cell_type": "code",
   "execution_count": 5,
   "id": "e830c1bf",
   "metadata": {},
   "outputs": [],
   "source": [
    "test_l2= np.load('test_l2.npy');\n",
    "test_l1= np.load('test_l1.npy'); "
   ]
  },
  {
   "cell_type": "code",
   "execution_count": 6,
   "id": "74c13cf0",
   "metadata": {},
   "outputs": [],
   "source": [
    "#test_l2[0]"
   ]
  },
  {
   "cell_type": "code",
   "execution_count": 7,
   "id": "6776d399",
   "metadata": {},
   "outputs": [],
   "source": [
    "test_features = np.nan_to_num(test_features)"
   ]
  },
  {
   "cell_type": "code",
   "execution_count": 8,
   "id": "d3c548d3",
   "metadata": {},
   "outputs": [
    {
     "name": "stdout",
     "output_type": "stream",
     "text": [
      "WARNING:tensorflow:Error in loading the saved optimizer state. As a result, your model is starting with a freshly initialized optimizer.\n"
     ]
    }
   ],
   "source": [
    "CancerCellLinePredictor = tf.keras.models.load_model('CancerCellLinePredictor.h5')"
   ]
  },
  {
   "cell_type": "code",
   "execution_count": 9,
   "id": "84c7e22e",
   "metadata": {},
   "outputs": [
    {
     "name": "stdout",
     "output_type": "stream",
     "text": [
      "335/335 [==============================] - 13s 37ms/step - loss: 0.2124 - accuracy: 0.9932\n"
     ]
    }
   ],
   "source": [
    "r1 = CancerCellLinePredictor.evaluate(test_features,test_l1)"
   ]
  },
  {
   "cell_type": "code",
   "execution_count": 10,
   "id": "02c63b2d",
   "metadata": {},
   "outputs": [
    {
     "name": "stdout",
     "output_type": "stream",
     "text": [
      "WARNING:tensorflow:Error in loading the saved optimizer state. As a result, your model is starting with a freshly initialized optimizer.\n"
     ]
    }
   ],
   "source": [
    "CancerTypePredictor = tf.keras.models.load_model('CancerTypePredictor.h5')"
   ]
  },
  {
   "cell_type": "code",
   "execution_count": 11,
   "id": "62a10798",
   "metadata": {},
   "outputs": [
    {
     "name": "stdout",
     "output_type": "stream",
     "text": [
      "335/335 [==============================] - 13s 38ms/step - loss: 0.4844 - accuracy: 0.9897\n"
     ]
    }
   ],
   "source": [
    "r2 = CancerTypePredictor.evaluate(test_features,test_l2)"
   ]
  },
  {
   "cell_type": "code",
   "execution_count": null,
   "id": "8605d759",
   "metadata": {},
   "outputs": [],
   "source": []
  },
  {
   "cell_type": "code",
   "execution_count": 12,
   "id": "8ab9a6e5",
   "metadata": {},
   "outputs": [],
   "source": [
    "p1 = CancerCellLinePredictor.predict(test_features[365:396])"
   ]
  },
  {
   "cell_type": "code",
   "execution_count": 13,
   "id": "7bd237b9",
   "metadata": {},
   "outputs": [
    {
     "data": {
      "text/plain": [
       "31"
      ]
     },
     "execution_count": 13,
     "metadata": {},
     "output_type": "execute_result"
    }
   ],
   "source": [
    "len(test_features[365:396])"
   ]
  },
  {
   "cell_type": "code",
   "execution_count": 14,
   "id": "557c8626",
   "metadata": {},
   "outputs": [
    {
     "data": {
      "text/plain": [
       "0.99921906"
      ]
     },
     "execution_count": 14,
     "metadata": {},
     "output_type": "execute_result"
    }
   ],
   "source": [
    "p1[0].max()"
   ]
  },
  {
   "cell_type": "code",
   "execution_count": 15,
   "id": "01a16b20",
   "metadata": {},
   "outputs": [],
   "source": [
    "val = np.where(p1[0]==p1[0].max())"
   ]
  },
  {
   "cell_type": "code",
   "execution_count": 16,
   "id": "75cc9ab7",
   "metadata": {},
   "outputs": [
    {
     "data": {
      "text/plain": [
       "(array([66]),)"
      ]
     },
     "execution_count": 16,
     "metadata": {},
     "output_type": "execute_result"
    }
   ],
   "source": [
    "val"
   ]
  },
  {
   "cell_type": "code",
   "execution_count": 17,
   "id": "533eceae",
   "metadata": {},
   "outputs": [
    {
     "data": {
      "text/plain": [
       "8.2628297e-16"
      ]
     },
     "execution_count": 17,
     "metadata": {},
     "output_type": "execute_result"
    }
   ],
   "source": [
    "p1[0][6]"
   ]
  },
  {
   "cell_type": "code",
   "execution_count": 18,
   "id": "001c4e89",
   "metadata": {},
   "outputs": [
    {
     "data": {
      "text/plain": [
       "'42MGBA_CENTRAL_NERVOUS_SYSTEM'"
      ]
     },
     "execution_count": 18,
     "metadata": {},
     "output_type": "execute_result"
    }
   ],
   "source": [
    "lab1_arr[val][0][0]"
   ]
  },
  {
   "cell_type": "code",
   "execution_count": 29,
   "id": "28761bdc",
   "metadata": {},
   "outputs": [],
   "source": [
    "def predict(model,dataset,one_hot_arr):\n",
    "    l = len(dataset)\n",
    "    p = model.predict(dataset)\n",
    "    results = {} ;\n",
    "    for i in range(l):\n",
    "        val = np.where(p[i] == p[i].max());\n",
    "        results[i] = one_hot_arr[val][0][0];\n",
    "        \n",
    "    return results    \n",
    "        "
   ]
  },
  {
   "cell_type": "code",
   "execution_count": 30,
   "id": "468e5f96",
   "metadata": {},
   "outputs": [],
   "source": [
    "re = predict(CancerCellLinePredictor,test_features[365:396],lab1_arr)"
   ]
  },
  {
   "cell_type": "code",
   "execution_count": 31,
   "id": "d63f80da",
   "metadata": {},
   "outputs": [],
   "source": [
    "rc = predict(CancerTypePredictor,test_features[365:396],lab2_arr)"
   ]
  },
  {
   "cell_type": "code",
   "execution_count": 32,
   "id": "dac3fe8e",
   "metadata": {},
   "outputs": [
    {
     "data": {
      "text/plain": [
       "{0: 'Brain Cancer',\n",
       " 1: 'Lung Cancer',\n",
       " 2: 'Head and Neck Cancer',\n",
       " 3: 'Liver Cancer',\n",
       " 4: 'Liver Cancer',\n",
       " 5: 'Head and Neck Cancer',\n",
       " 6: 'Brain Cancer',\n",
       " 7: 'Skin Cancer',\n",
       " 8: 'Skin Cancer',\n",
       " 9: 'Breast Cancer',\n",
       " 10: 'Esophageal Cancer',\n",
       " 11: 'Lung Cancer',\n",
       " 12: 'Brain Cancer',\n",
       " 13: 'Gastric Cancer',\n",
       " 14: 'Lung Cancer',\n",
       " 15: 'Brain Cancer',\n",
       " 16: 'Esophageal Cancer',\n",
       " 17: 'Head and Neck Cancer',\n",
       " 18: 'Neuroblastoma',\n",
       " 19: 'Esophageal Cancer',\n",
       " 20: 'Pancreatic Cancer',\n",
       " 21: 'Breast Cancer',\n",
       " 22: 'Endometrial/Uterine Cancer',\n",
       " 23: 'Head and Neck Cancer',\n",
       " 24: 'Esophageal Cancer',\n",
       " 25: 'Lung Cancer',\n",
       " 26: 'Lung Cancer',\n",
       " 27: 'Colon/Colorectal Cancer',\n",
       " 28: 'Lung Cancer',\n",
       " 29: 'Lung Cancer',\n",
       " 30: 'Ovarian Cancer'}"
      ]
     },
     "execution_count": 32,
     "metadata": {},
     "output_type": "execute_result"
    }
   ],
   "source": [
    "rc"
   ]
  },
  {
   "cell_type": "code",
   "execution_count": null,
   "id": "e7378a82",
   "metadata": {},
   "outputs": [],
   "source": []
  }
 ],
 "metadata": {
  "environment": {
   "name": "tf2-gpu.2-5.m71",
   "type": "gcloud",
   "uri": "gcr.io/deeplearning-platform-release/tf2-gpu.2-5:m71"
  },
  "kernelspec": {
   "display_name": "Python [conda env:root] *",
   "language": "python",
   "name": "conda-root-py"
  },
  "language_info": {
   "codemirror_mode": {
    "name": "ipython",
    "version": 3
   },
   "file_extension": ".py",
   "mimetype": "text/x-python",
   "name": "python",
   "nbconvert_exporter": "python",
   "pygments_lexer": "ipython3",
   "version": "3.7.10"
  }
 },
 "nbformat": 4,
 "nbformat_minor": 5
}
