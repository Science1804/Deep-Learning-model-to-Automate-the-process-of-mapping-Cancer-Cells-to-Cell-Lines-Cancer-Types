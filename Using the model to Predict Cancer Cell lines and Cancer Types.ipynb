{
 "cells": [
  {
   "cell_type": "code",
   "execution_count": 1,
   "id": "4b1aba93",
   "metadata": {},
   "outputs": [],
   "source": [
    "import tensorflow as tf\n",
    "import numpy as np\n",
    "import pandas as pd\n",
    "import os \n",
    "import matplotlib.pyplot as plt\n",
    "from tensorflow.keras.utils import to_categorical"
   ]
  },
  {
   "cell_type": "code",
   "execution_count": 2,
   "id": "d6b987e7",
   "metadata": {},
   "outputs": [],
   "source": [
    "lab1_arr = np.load('lab1_arr.npy')\n",
    "lab2_arr = np.load('lab2_arr.npy')"
   ]
  },
  {
   "cell_type": "code",
   "execution_count": 33,
   "id": "55c02097",
   "metadata": {},
   "outputs": [],
   "source": [
    "columns = np.load('columns.npy',allow_pickle=True)"
   ]
  },
  {
   "cell_type": "code",
   "execution_count": 38,
   "id": "64a6d2fc",
   "metadata": {},
   "outputs": [],
   "source": [
    "min_max_col = np.load('min_max_cols.npy',allow_pickle=True) # to make sure that the data on which we predict is of the same form "
   ]
  },
  {
   "cell_type": "code",
   "execution_count": 46,
   "id": "2015af55",
   "metadata": {},
   "outputs": [],
   "source": [
    "# the following loaded test data wont be there , to obtain the same one must follow the two files - Clubbing and PreProcessing \n",
    "# it is just taken here to show the example"
   ]
  },
  {
   "cell_type": "code",
   "execution_count": 8,
   "id": "d08a10d4",
   "metadata": {},
   "outputs": [],
   "source": [
    "#test_features = np.load('test_features_s.npy');test_features = np.nan_to_num(test_features)\n",
    "#test_l2= np.load('test_l2.npy'); \n",
    "#test_l1= np.load('test_l1.npy'); "
   ]
  },
  {
   "cell_type": "code",
   "execution_count": 47,
   "id": "027606df",
   "metadata": {},
   "outputs": [],
   "source": [
    "example = pd.read_csv('Example.csv') # but this data will be present in the github directory its a small part of test set"
   ]
  },
  {
   "cell_type": "code",
   "execution_count": 22,
   "id": "560d93fe",
   "metadata": {},
   "outputs": [],
   "source": [
    "def predict(model,dataset,one_hot_arr):\n",
    "    l = len(dataset)\n",
    "    p = model.predict(dataset)\n",
    "    results = {} ;\n",
    "    for i in range(l):\n",
    "        val = np.where(p[i] == p[i].max());\n",
    "        results[i] = one_hot_arr[val][0][0];\n",
    "        \n",
    "    return results    \n",
    "        "
   ]
  },
  {
   "cell_type": "code",
   "execution_count": 39,
   "id": "e97d5029",
   "metadata": {},
   "outputs": [],
   "source": [
    "def pre_processdf(df):\n",
    "    for key,value in min_max_col:\n",
    "        Min,Max = value[0],value[1];\n",
    "        df[key] = (df[key] - Min) / (Max - Min)  \n",
    "    return df"
   ]
  },
  {
   "cell_type": "code",
   "execution_count": 41,
   "id": "bc91fb32",
   "metadata": {},
   "outputs": [],
   "source": [
    "def inputdf(df):\n",
    "    features = pd.DataFrame(df).to_numpy()\n",
    "    features = np.nan_to_num(features)\n",
    "    return features"
   ]
  },
  {
   "cell_type": "code",
   "execution_count": 59,
   "id": "1cab5d78",
   "metadata": {},
   "outputs": [],
   "source": [
    "def check_columns(df):\n",
    "    if len(np.array(df.columns)) == len(columns):\n",
    "        for i in range(len(np.array(df.columns))):\n",
    "            if np.array(df.columns)[i] != columns[i] :\n",
    "                print('Need to sort them properly in order')\n",
    "        print('Yes you can proceed ahead')\n",
    "    else :\n",
    "        print('Few columns missing in the data')"
   ]
  },
  {
   "cell_type": "code",
   "execution_count": 10,
   "id": "51de271d",
   "metadata": {},
   "outputs": [
    {
     "name": "stdout",
     "output_type": "stream",
     "text": [
      "WARNING:tensorflow:Error in loading the saved optimizer state. As a result, your model is starting with a freshly initialized optimizer.\n"
     ]
    }
   ],
   "source": [
    "CancerCellLinePredictor = tf.keras.models.load_model('CancerCellLinePredictor.h5')"
   ]
  },
  {
   "cell_type": "code",
   "execution_count": 11,
   "id": "31c43331",
   "metadata": {},
   "outputs": [
    {
     "name": "stdout",
     "output_type": "stream",
     "text": [
      "WARNING:tensorflow:Error in loading the saved optimizer state. As a result, your model is starting with a freshly initialized optimizer.\n"
     ]
    }
   ],
   "source": [
    "CancerTypePredictor = tf.keras.models.load_model('CancerTypePredictor.h5')"
   ]
  },
  {
   "cell_type": "code",
   "execution_count": 48,
   "id": "980e027a",
   "metadata": {},
   "outputs": [
    {
     "data": {
      "text/plain": [
       "{0: '42MGBA_CENTRAL_NERVOUS_SYSTEM',\n",
       " 1: 'NCIH1048_LUNG',\n",
       " 2: 'SCC47_UPPER_AERODIGESTIVE_TRACT',\n",
       " 3: 'HUH6_LIVER',\n",
       " 4: 'SNU449_LIVER',\n",
       " 5: 'JHU011_UPPER_AERODIGESTIVE_TRACT',\n",
       " 6: 'SNU738_CENTRAL_NERVOUS_SYSTEM'}"
      ]
     },
     "execution_count": 48,
     "metadata": {},
     "output_type": "execute_result"
    }
   ],
   "source": []
  },
  {
   "cell_type": "code",
   "execution_count": null,
   "id": "6a6dd81f",
   "metadata": {},
   "outputs": [],
   "source": []
  },
  {
   "cell_type": "code",
   "execution_count": null,
   "id": "0191912a",
   "metadata": {},
   "outputs": [],
   "source": []
  },
  {
   "cell_type": "code",
   "execution_count": null,
   "id": "b748f858",
   "metadata": {},
   "outputs": [],
   "source": []
  },
  {
   "cell_type": "code",
   "execution_count": 51,
   "id": "f8eb91e2",
   "metadata": {},
   "outputs": [],
   "source": [
    "#make sure the input feature vector input has the order"
   ]
  },
  {
   "cell_type": "code",
   "execution_count": 36,
   "id": "9834a602",
   "metadata": {},
   "outputs": [
    {
     "data": {
      "text/plain": [
       "array(['RP11-34P13.7', 'RP11-34P13.8', 'AL627309.1', ..., 'LINC01481',\n",
       "       'PRICKLE2-AS1', 'TMBIM4'], dtype=object)"
      ]
     },
     "execution_count": 36,
     "metadata": {},
     "output_type": "execute_result"
    }
   ],
   "source": [
    "columns"
   ]
  },
  {
   "cell_type": "code",
   "execution_count": 60,
   "id": "073b19a1",
   "metadata": {},
   "outputs": [
    {
     "name": "stdout",
     "output_type": "stream",
     "text": [
      "Yes you can proceed ahead\n"
     ]
    }
   ],
   "source": [
    "check_columns(df=example)   #run this to check if your columns mathc the order of features to be input to the model , input the data frame here"
   ]
  },
  {
   "cell_type": "code",
   "execution_count": 62,
   "id": "f21f3afd",
   "metadata": {},
   "outputs": [],
   "source": [
    "df = pre_processdf(df=example);  # make sure the data is min max scaled like the input data the model is used to run with"
   ]
  },
  {
   "cell_type": "code",
   "execution_count": 63,
   "id": "b723fdfa",
   "metadata": {},
   "outputs": [],
   "source": [
    "features = inputdf(df); # to convert the dataframe to features vector format ready to be input to the model"
   ]
  },
  {
   "cell_type": "code",
   "execution_count": 45,
   "id": "eeddb7fb",
   "metadata": {},
   "outputs": [],
   "source": [
    "# then input the data the following way to the model and predict the cell line and cancer type"
   ]
  },
  {
   "cell_type": "code",
   "execution_count": 64,
   "id": "010d4286",
   "metadata": {},
   "outputs": [
    {
     "data": {
      "text/plain": [
       "{0: 'SNU738_CENTRAL_NERVOUS_SYSTEM',\n",
       " 1: 'HT1376_URINARY_TRACT',\n",
       " 2: 'NCIH2110_LUNG',\n",
       " 3: 'SNU1214_UPPER_AERODIGESTIVE_TRACT',\n",
       " 4: 'OVSAHO_OVARY',\n",
       " 5: 'RT4_URINARY_TRACT',\n",
       " 6: 'VMCUB1_URINARY_TRACT',\n",
       " 7: 'SCC25_UPPER_AERODIGESTIVE_TRACT',\n",
       " 8: 'NCIH2110_LUNG',\n",
       " 9: 'SNU738_CENTRAL_NERVOUS_SYSTEM',\n",
       " 10: 'MCF7_BREAST',\n",
       " 11: 'NCIH1299_LUNG',\n",
       " 12: 'BFTC909_KIDNEY',\n",
       " 13: 'IM95_STOMACH',\n",
       " 14: '93VU_UPPER_AERODIGESTIVE_TRACT',\n",
       " 15: 'NCIH2110_LUNG',\n",
       " 16: 'LI7_LIVER',\n",
       " 17: 'SW1990_PANCREAS',\n",
       " 18: 'A204_SOFT_TISSUE',\n",
       " 19: 'NCIH1944_LUNG',\n",
       " 20: 'HUH6_LIVER',\n",
       " 21: 'VMCUB1_URINARY_TRACT',\n",
       " 22: 'KYSE520_OESOPHAGUS',\n",
       " 23: 'TE9_OESOPHAGUS',\n",
       " 24: 'C32_SKIN',\n",
       " 25: 'NCIH522_LUNG',\n",
       " 26: 'LS180_LARGE_INTESTINE',\n",
       " 27: 'SNU308_BILIARY_TRACT',\n",
       " 28: 'NCIH460_LUNG',\n",
       " 29: 'TE14_OESOPHAGUS',\n",
       " 30: 'NCIH2110_LUNG',\n",
       " 31: 'IGR37_SKIN',\n",
       " 32: 'OVTOKO_OVARY',\n",
       " 33: 'NCIH2073_LUNG',\n",
       " 34: 'HUH28_BILIARY_TRACT',\n",
       " 35: 'KPNSI9S_AUTONOMIC_GANGLIA',\n",
       " 36: 'A2058_SKIN',\n",
       " 37: 'SNU1214_UPPER_AERODIGESTIVE_TRACT',\n",
       " 38: '93VU_UPPER_AERODIGESTIVE_TRACT',\n",
       " 39: 'NCIH2110_LUNG',\n",
       " 40: 'NCIH2110_LUNG',\n",
       " 41: 'SCC9_UPPER_AERODIGESTIVE_TRACT',\n",
       " 42: 'HEC251_ENDOMETRIUM',\n",
       " 43: 'LS1034_LARGE_INTESTINE',\n",
       " 44: 'NCIH460_LUNG',\n",
       " 45: 'HOS_BONE',\n",
       " 46: 'SKMEL2_SKIN',\n",
       " 47: 'KPL1_BREAST',\n",
       " 48: 'IGR1_SKIN',\n",
       " 49: 'TE14_OESOPHAGUS',\n",
       " 50: 'TOV21G_OVARY',\n",
       " 51: 'LS180_LARGE_INTESTINE',\n",
       " 52: 'TEN_ENDOMETRIUM',\n",
       " 53: 'U118MG_CENTRAL_NERVOUS_SYSTEM',\n",
       " 54: 'OSRC2_KIDNEY',\n",
       " 55: 'CAS1_CENTRAL_NERVOUS_SYSTEM',\n",
       " 56: 'SNUC4_LARGE_INTESTINE',\n",
       " 57: 'IGR1_SKIN',\n",
       " 58: 'SKNAS_AUTONOMIC_GANGLIA',\n",
       " 59: 'BICR31_UPPER_AERODIGESTIVE_TRACT',\n",
       " 60: 'NCIH2452_PLEURA',\n",
       " 61: 'YD38_UPPER_AERODIGESTIVE_TRACT',\n",
       " 62: 'NCIH2110_LUNG',\n",
       " 63: 'NCIH446_LUNG',\n",
       " 64: 'OVCAR4_OVARY',\n",
       " 65: 'T47D_BREAST',\n",
       " 66: 'HS729_SOFT_TISSUE',\n",
       " 67: 'NCIH2452_PLEURA',\n",
       " 68: 'KYSE520_OESOPHAGUS',\n",
       " 69: 'SKMEL3_SKIN',\n",
       " 70: 'JHOC5_OVARY',\n",
       " 71: 'UACC257_SKIN',\n",
       " 72: 'HS729_SOFT_TISSUE',\n",
       " 73: 'CAS1_CENTRAL_NERVOUS_SYSTEM',\n",
       " 74: 'SNU449_LIVER',\n",
       " 75: 'RERFLCAI_LUNG',\n",
       " 76: 'NCIH2110_LUNG',\n",
       " 77: 'A375_SKIN',\n",
       " 78: 'OAW28_OVARY',\n",
       " 79: 'LNCAPCLONEFGC_PROSTATE',\n",
       " 80: 'NCIH1568_LUNG',\n",
       " 81: 'RERFLCAI_LUNG',\n",
       " 82: 'NCIH2444_LUNG',\n",
       " 83: 'COLO680N_OESOPHAGUS',\n",
       " 84: 'MDAMB436_BREAST',\n",
       " 85: 'HOS_BONE',\n",
       " 86: 'NCIH2347_LUNG',\n",
       " 87: 'TEN_ENDOMETRIUM',\n",
       " 88: 'JHU011_UPPER_AERODIGESTIVE_TRACT',\n",
       " 89: 'NCIH2452_PLEURA',\n",
       " 90: 'OVSAHO_OVARY',\n",
       " 91: 'HOS_BONE',\n",
       " 92: 'CAOV3_OVARY',\n",
       " 93: 'HS729_SOFT_TISSUE',\n",
       " 94: 'CAS1_CENTRAL_NERVOUS_SYSTEM',\n",
       " 95: 'BFTC909_KIDNEY',\n",
       " 96: 'COLO741_SKIN',\n",
       " 97: 'HUPT3_PANCREAS',\n",
       " 98: 'TE6_OESOPHAGUS',\n",
       " 99: 'RERFLCAI_LUNG',\n",
       " 100: 'SQ1_LUNG',\n",
       " 101: 'JHH6_LIVER',\n",
       " 102: '93VU_UPPER_AERODIGESTIVE_TRACT',\n",
       " 103: 'TEN_ENDOMETRIUM',\n",
       " 104: 'OVCAR4_OVARY',\n",
       " 105: 'SKMEL2_SKIN',\n",
       " 106: 'WM88_SKIN'}"
      ]
     },
     "execution_count": 64,
     "metadata": {},
     "output_type": "execute_result"
    }
   ],
   "source": [
    "predict(CancerCellLinePredictor,features,lab1_arr)"
   ]
  },
  {
   "cell_type": "code",
   "execution_count": 65,
   "id": "13731e1c",
   "metadata": {},
   "outputs": [
    {
     "data": {
      "text/plain": [
       "{0: 'Brain Cancer',\n",
       " 1: 'Bladder Cancer',\n",
       " 2: 'Lung Cancer',\n",
       " 3: 'Head and Neck Cancer',\n",
       " 4: 'Ovarian Cancer',\n",
       " 5: 'Bladder Cancer',\n",
       " 6: 'Bladder Cancer',\n",
       " 7: 'Head and Neck Cancer',\n",
       " 8: 'Lung Cancer',\n",
       " 9: 'Brain Cancer',\n",
       " 10: 'Breast Cancer',\n",
       " 11: 'Lung Cancer',\n",
       " 12: 'Kidney Cancer',\n",
       " 13: 'Gastric Cancer',\n",
       " 14: 'Head and Neck Cancer',\n",
       " 15: 'Lung Cancer',\n",
       " 16: 'Liver Cancer',\n",
       " 17: 'Pancreatic Cancer',\n",
       " 18: 'Sarcoma',\n",
       " 19: 'Lung Cancer',\n",
       " 20: 'Liver Cancer',\n",
       " 21: 'Bladder Cancer',\n",
       " 22: 'Esophageal Cancer',\n",
       " 23: 'Esophageal Cancer',\n",
       " 24: 'Skin Cancer',\n",
       " 25: 'Lung Cancer',\n",
       " 26: 'Colon/Colorectal Cancer',\n",
       " 27: 'Lung Cancer',\n",
       " 28: 'Lung Cancer',\n",
       " 29: 'Esophageal Cancer',\n",
       " 30: 'Lung Cancer',\n",
       " 31: 'Skin Cancer',\n",
       " 32: 'Ovarian Cancer',\n",
       " 33: 'Lung Cancer',\n",
       " 34: 'Bile Duct Cancer',\n",
       " 35: 'Neuroblastoma',\n",
       " 36: 'Skin Cancer',\n",
       " 37: 'Head and Neck Cancer',\n",
       " 38: 'Head and Neck Cancer',\n",
       " 39: 'Lung Cancer',\n",
       " 40: 'Lung Cancer',\n",
       " 41: 'Head and Neck Cancer',\n",
       " 42: 'Endometrial/Uterine Cancer',\n",
       " 43: 'Colon/Colorectal Cancer',\n",
       " 44: 'Lung Cancer',\n",
       " 45: 'Bone Cancer',\n",
       " 46: 'Skin Cancer',\n",
       " 47: 'Breast Cancer',\n",
       " 48: 'Skin Cancer',\n",
       " 49: 'Esophageal Cancer',\n",
       " 50: 'Ovarian Cancer',\n",
       " 51: 'Colon/Colorectal Cancer',\n",
       " 52: 'Endometrial/Uterine Cancer',\n",
       " 53: 'Brain Cancer',\n",
       " 54: 'Kidney Cancer',\n",
       " 55: 'Brain Cancer',\n",
       " 56: 'Colon/Colorectal Cancer',\n",
       " 57: 'Skin Cancer',\n",
       " 58: 'Neuroblastoma',\n",
       " 59: 'Head and Neck Cancer',\n",
       " 60: 'Lung Cancer',\n",
       " 61: 'Head and Neck Cancer',\n",
       " 62: 'Lung Cancer',\n",
       " 63: 'Lung Cancer',\n",
       " 64: 'Ovarian Cancer',\n",
       " 65: 'Breast Cancer',\n",
       " 66: 'Fibroblast',\n",
       " 67: 'Lung Cancer',\n",
       " 68: 'Esophageal Cancer',\n",
       " 69: 'Skin Cancer',\n",
       " 70: 'Ovarian Cancer',\n",
       " 71: 'Skin Cancer',\n",
       " 72: 'Fibroblast',\n",
       " 73: 'Brain Cancer',\n",
       " 74: 'Liver Cancer',\n",
       " 75: 'Lung Cancer',\n",
       " 76: 'Lung Cancer',\n",
       " 77: 'Skin Cancer',\n",
       " 78: 'Ovarian Cancer',\n",
       " 79: 'Prostate Cancer',\n",
       " 80: 'Lung Cancer',\n",
       " 81: 'Lung Cancer',\n",
       " 82: 'Lung Cancer',\n",
       " 83: 'Esophageal Cancer',\n",
       " 84: 'Breast Cancer',\n",
       " 85: 'Bone Cancer',\n",
       " 86: 'Lung Cancer',\n",
       " 87: 'Endometrial/Uterine Cancer',\n",
       " 88: 'Head and Neck Cancer',\n",
       " 89: 'Lung Cancer',\n",
       " 90: 'Ovarian Cancer',\n",
       " 91: 'Bone Cancer',\n",
       " 92: 'Ovarian Cancer',\n",
       " 93: 'Fibroblast',\n",
       " 94: 'Brain Cancer',\n",
       " 95: 'Kidney Cancer',\n",
       " 96: 'Skin Cancer',\n",
       " 97: 'Pancreatic Cancer',\n",
       " 98: 'Esophageal Cancer',\n",
       " 99: 'Lung Cancer',\n",
       " 100: 'Lung Cancer',\n",
       " 101: 'Liver Cancer',\n",
       " 102: 'Head and Neck Cancer',\n",
       " 103: 'Endometrial/Uterine Cancer',\n",
       " 104: 'Ovarian Cancer',\n",
       " 105: 'Skin Cancer',\n",
       " 106: 'Skin Cancer'}"
      ]
     },
     "execution_count": 65,
     "metadata": {},
     "output_type": "execute_result"
    }
   ],
   "source": [
    "predict(CancerTypePredictor,features,lab2_arr)"
   ]
  },
  {
   "cell_type": "code",
   "execution_count": 31,
   "id": "fd599c5f",
   "metadata": {},
   "outputs": [],
   "source": []
  },
  {
   "cell_type": "code",
   "execution_count": null,
   "id": "c76e3f0c",
   "metadata": {},
   "outputs": [],
   "source": []
  },
  {
   "cell_type": "code",
   "execution_count": null,
   "id": "909a231c",
   "metadata": {},
   "outputs": [],
   "source": []
  }
 ],
 "metadata": {
  "environment": {
   "name": "tf2-gpu.2-5.m71",
   "type": "gcloud",
   "uri": "gcr.io/deeplearning-platform-release/tf2-gpu.2-5:m71"
  },
  "kernelspec": {
   "display_name": "Python [conda env:root] *",
   "language": "python",
   "name": "conda-root-py"
  },
  "language_info": {
   "codemirror_mode": {
    "name": "ipython",
    "version": 3
   },
   "file_extension": ".py",
   "mimetype": "text/x-python",
   "name": "python",
   "nbconvert_exporter": "python",
   "pygments_lexer": "ipython3",
   "version": "3.7.10"
  }
 },
 "nbformat": 4,
 "nbformat_minor": 5
}
