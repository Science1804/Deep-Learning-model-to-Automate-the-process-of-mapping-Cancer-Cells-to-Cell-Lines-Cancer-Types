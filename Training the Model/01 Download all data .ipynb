{
 "cells": [
  {
   "cell_type": "code",
   "execution_count": 1,
   "id": "123109c4",
   "metadata": {},
   "outputs": [
    {
     "name": "stdout",
     "output_type": "stream",
     "text": [
      "  % Total    % Received % Xferd  Average Speed   Time    Time     Time  Current\n",
      "                                 Dload  Upload   Total   Spent    Left  Speed\n",
      "100 16262    0 16262    0     0   9438      0 --:--:--  0:00:01 --:--:--  9438\n",
      "  % Total    % Received % Xferd  Average Speed   Time    Time     Time  Current\n",
      "                                 Dload  Upload   Total   Spent    Left  Speed\n",
      "100 26118  100 26118    0     0    99k      0 --:--:-- --:--:-- --:--:--   99k\n",
      "100  2598  100  2598    0     0  13602      0 --:--:-- --:--:-- --:--:-- 13602\n",
      "100 61442  100 61442    0     0   335k      0 --:--:-- --:--:-- --:--:--  335k\n",
      "100  300k  100  300k    0     0  1660k      0 --:--:-- --:--:-- --:--:-- 1660k\n",
      "100 2014k  100 2014k    0     0  6693k      0 --:--:-- --:--:-- --:--:-- 33.6M\n",
      "100 80627  100 80627    0     0   291k      0 --:--:-- --:--:-- --:--:--  291k\n",
      "100 31818  100 31818    0     0   150k      0 --:--:-- --:--:-- --:--:--  150k\n",
      "100  344k  100  344k    0     0  1841k      0 --:--:-- --:--:-- --:--:-- 1841k\n",
      "100 19013  100 19013    0     0   106k      0 --:--:-- --:--:-- --:--:--  106k\n",
      "100 51003  100 51003    0     0   292k      0 --:--:-- --:--:-- --:--:--     0\n",
      "100 32358  100 32358    0     0   190k      0 --:--:-- --:--:-- --:--:--  190k\n",
      "100  7892  100  7892    0     0  45618      0 --:--:-- --:--:-- --:--:-- 45618\n",
      "100 25971  100 25971    0     0   144k      0 --:--:-- --:--:-- --:--:--  144k\n",
      "100 52384  100 52384    0     0   237k      0 --:--:-- --:--:-- --:--:--  237k\n",
      "100 38771  100 38771    0     0   212k      0 --:--:-- --:--:-- --:--:--     0\n",
      "100 1695M  100 1695M    0     0  31.1M      0  0:00:54  0:00:54 --:--:-- 35.5M\n",
      "100  9349  100  9349    0     0  47943      0 --:--:-- --:--:-- --:--:-- 47943\n",
      "100  181M  100  181M    0     0  15.2M      0  0:00:11  0:00:11 --:--:-- 12.4M\n",
      "100 3855M    0 3855M    0     0   156M      0 --:--:--  0:00:24 --:--:--  155M --:--:--  0:00:23 --:--:--  159M\n",
      "100  146k  100  146k    0     0   949k      0 --:--:-- --:--:-- --:--:--  949k\n",
      "100 58458  100 58458    0     0   230k      0 --:--:-- --:--:-- --:--:--  230k\n",
      "100  126k  100  126k    0     0   613k      0 --:--:-- --:--:-- --:--:--  613k\n",
      "100 72787  100 72787    0     0   333k      0 --:--:-- --:--:-- --:--:--     0\n",
      "100 24698  100 24698    0     0   128k      0 --:--:-- --:--:-- --:--:--  128k\n",
      "100  5827  100  5827    0     0  28286      0 --:--:-- --:--:-- --:--:-- 28286\n",
      "100 38784  100 38784    0     0   195k      0 --:--:-- --:--:-- --:--:--  195k\n",
      "100  1263    0  1263    0     0   4730      0 --:--:-- --:--:-- --:--:--  4730\n"
     ]
    }
   ],
   "source": [
    "!curl \"https://singlecell.broadinstitute.org/single_cell/api/v1/search/bulk_download?accessions=SCP542&auth_code=QF85ofar&directory=all\"  -o cfg.txt; curl -K cfg.txt && rm cfg.txt"
   ]
  },
  {
   "cell_type": "code",
   "execution_count": 2,
   "id": "adaf1a73",
   "metadata": {},
   "outputs": [],
   "source": [
    "from zipfile import ZipFile\n",
    "import os"
   ]
  },
  {
   "cell_type": "code",
   "execution_count": 3,
   "id": "7f0a87b5",
   "metadata": {},
   "outputs": [
    {
     "data": {
      "text/plain": [
       "['CCLE_scRNAseq_github.zip', 'UMIcount_data.txt']"
      ]
     },
     "execution_count": 3,
     "metadata": {},
     "output_type": "execute_result"
    }
   ],
   "source": [
    "os.listdir('SCP542/other')"
   ]
  },
  {
   "cell_type": "code",
   "execution_count": 4,
   "id": "0c1d17bd",
   "metadata": {},
   "outputs": [],
   "source": [
    "# CCLE_scRNAseq_github.zip represent the data of the mapped cell lines with cells in a 3-d Matrix"
   ]
  },
  {
   "cell_type": "code",
   "execution_count": 5,
   "id": "02e8594e",
   "metadata": {},
   "outputs": [],
   "source": [
    "ccle_zip = 'SCP542/other/CCLE_scRNAseq_github.zip'"
   ]
  },
  {
   "cell_type": "code",
   "execution_count": 6,
   "id": "a2db7cb7",
   "metadata": {},
   "outputs": [],
   "source": [
    "#extracting the zip file"
   ]
  },
  {
   "cell_type": "code",
   "execution_count": 7,
   "id": "4487a563",
   "metadata": {},
   "outputs": [
    {
     "name": "stdout",
     "output_type": "stream",
     "text": [
      "File Name                                             Modified             Size\n",
      "Expected_results/                              2020-08-28 16:35:28            0\n",
      "Expected_results/module1/                      2020-07-22 18:20:12            0\n",
      "Expected_results/module1/CAKI2_KIDNEY_minpt5_tsne_clusters.pdf 2020-07-20 12:03:50        21385\n",
      "Expected_results/module1/EBC1_LUNG_minpt5_tsne_clusters.pdf 2020-07-20 12:03:50        16013\n",
      "Expected_results/module1/HOS_BONE_minpt5_tsne_clusters.pdf 2020-07-20 12:03:50        53126\n",
      "Expected_results/module1/OAW28_OVARY_minpt5_tsne_clusters.pdf 2020-07-20 12:03:50        14577\n",
      "Expected_results/module1/RCC10RGB_KIDNEY_minpt5_tsne_clusters.pdf 2020-07-20 12:03:50        18649\n",
      "Expected_results/module1/JHOS2_OVARY_minpt5_tsne_clusters.pdf 2020-07-20 12:03:50        17504\n",
      "Expected_results/module1/JHU029_UPPER_AERODIGESTIVE_TRACT_minpt5_tsne_clusters.pdf 2020-07-20 12:03:50        51582\n",
      "Expected_results/module1/NCIH1568_LUNG_minpt5_tsne_clusters.pdf 2020-07-20 12:03:50        21951\n",
      "Expected_results/module1/NCIH2228_LUNG_minpt5_tsne_clusters.pdf 2020-07-20 12:03:50        26435\n",
      "Expected_results/module1/RD_SOFT_TISSUE_minpt5_tsne_clusters.pdf 2020-07-20 12:03:50        20233\n",
      "Expected_results/module1/SCC25_UPPER_AERODIGESTIVE_TRACT_minpt5_tsne_clusters.pdf 2020-07-20 12:03:50        57374\n",
      "Expected_results/module1/SKMEL5_SKIN_minpt5_tsne_clusters.pdf 2020-07-20 12:03:50        22405\n",
      "Expected_results/module1/SNU423_LIVER_minpt5_tsne_clusters.pdf 2020-07-20 12:03:50        17483\n",
      "Expected_results/module1/TE14_OESOPHAGUS_minpt5_tsne_clusters.pdf 2020-07-20 12:03:50        32715\n",
      "Expected_results/module1/TE6_OESOPHAGUS_minpt5_tsne_clusters.pdf 2020-07-20 12:03:50        37353\n",
      "Expected_results/module1/VMRCRCZ_KIDNEY_minpt5_tsne_clusters.pdf 2020-07-20 12:03:50        22672\n",
      "Expected_results/module1/ABC1_LUNG_minpt5_tsne_clusters.pdf 2020-07-20 12:04:28        23359\n",
      "Expected_results/module1/NCIH1299_LUNG_minpt5_tsne_clusters.pdf 2020-07-20 12:04:28        36466\n",
      "Expected_results/module1/SCC9_UPPER_AERODIGESTIVE_TRACT_minpt5_tsne_clusters.pdf 2020-07-20 12:04:28        33203\n",
      "Expected_results/module1/8305C_THYROID_minpt5_tsne_clusters.pdf 2020-07-20 12:05:24        32081\n",
      "Expected_results/module1/NCIH2110_LUNG_minpt5_tsne_clusters.pdf 2020-07-20 12:05:24       121792\n",
      "Expected_results/module1/RERFLCAI_LUNG_minpt5_tsne_clusters.pdf 2020-07-20 12:05:24        50053\n",
      "Expected_results/module1/.ipynb_checkpoints/   2020-07-20 12:13:08            0\n",
      "Expected_results/module1/nmf_h_coef_ccle.RDS   2020-07-20 12:14:50      9834052\n",
      "Expected_results/module1/nmf_w_basis_ccle.RDS  2020-07-20 12:12:38    273526180\n",
      "Expected_results/module1/discr_clusters_minpt5_eps1.8_ccle.RDS 2020-07-20 12:03:06      6141786\n",
      "Expected_results/module1/nmf_w_basis_tumor.RDS 2020-07-22 18:19:34     39917199\n",
      "Expected_results/module1/nmf_h_coef_tumor.RDS  2020-07-22 18:20:12      1160751\n",
      "Expected_results/.ipynb_checkpoints/           2020-07-20 12:03:00            0\n",
      "Expected_results/module2/                      2020-08-21 17:46:28            0\n",
      "Expected_results/module2/nmf_metaprograms_complexity_ccle.pdf 2020-07-24 16:12:18      3458131\n",
      "Expected_results/module2/.ipynb_checkpoints/   2020-07-26 10:36:00            0\n",
      "Expected_results/module2/.ipynb_checkpoints/nmf_metaprograms_complexity_ccle-checkpoint.pdf 2020-07-21 13:18:36      3202390\n",
      "Expected_results/module2/.ipynb_checkpoints/dbscan_metaprograms_eps1.8_ccle-checkpoint.pdf 2020-07-20 17:35:02        13231\n",
      "Expected_results/module2/.ipynb_checkpoints/nmf_metaprograms_discrete_ccle-checkpoint.pdf 2020-07-24 14:24:20      2368272\n",
      "Expected_results/module2/.ipynb_checkpoints/nmf_metaprograms_tumors-checkpoint.pdf 2020-07-24 09:44:22        40303\n",
      "Expected_results/module2/dbscan_metaprograms_eps1.8_ccle.pdf 2020-07-20 18:16:32        13190\n",
      "Expected_results/module2/nmf_metaprograms_discrete_ccle.pdf 2020-07-24 18:55:58      2632985\n",
      "Expected_results/module2/nmf_metaprograms_nc_ccle.pdf 2020-07-24 16:52:46      1797787\n",
      "Expected_results/module2/nmf_metaprograms_programs_nc_tumor.RDS 2020-07-26 10:25:28          356\n",
      "Expected_results/module2/nmf_programs_sig_ccle.RDS 2020-07-24 14:12:16       118571\n",
      "Expected_results/module2/nmf_metaprograms_tumors.pdf 2020-07-24 13:48:02        40945\n",
      "Expected_results/module2/nmf_programs_sig_nc_ccle.RDS 2020-07-24 16:14:42        68706\n",
      "Expected_results/module2/nmf_metaprograms_programs_nc_ccle.RDS 2020-07-26 10:48:34         2535\n",
      "Expected_results/module2/nmf_metaprograms_sigtop25_nc_ccle.RDS 2020-08-21 17:33:04         3006\n",
      "Expected_results/module2/nmf_metaprograms_sigtop25_nc_tumor.RDS 2020-08-21 17:44:42         1650\n",
      "Expected_results/module2/nmf_metaprograms_sig_nc_ccle.RDS 2020-08-21 17:29:42        25872\n",
      "Expected_results/module2/nmf_metaprograms_sig_nc_tumor.RDS 2020-08-21 17:44:42         5191\n",
      "Expected_results/module3/                      2020-08-21 16:23:16            0\n",
      "Expected_results/module3/meta_vitroVSvivo_jaccard.pdf 2020-07-30 18:18:52         7311\n",
      "Expected_results/module3/.ipynb_checkpoints/   2020-08-21 16:23:16            0\n",
      "Expected_results/module3/.ipynb_checkpoints/meta_vitroVSvivo_jaccard-checkpoint.pdf 2020-07-27 18:45:30         7310\n",
      "Expected_results/module3/.ipynb_checkpoints/indprog_vitroVSvivo_jaccard&corr-checkpoint.pdf 2020-07-30 19:48:20         8417\n",
      "Expected_results/module3/.ipynb_checkpoints/meta_vitroVSvivo_phyper-checkpoint.pdf 2020-07-27 18:45:32         7024\n",
      "Expected_results/module3/indprog_vitroVSvivo_jaccard&corr.pdf 2020-07-30 19:48:20         8417\n",
      "Expected_results/module3/meta_vitroVSvivo_phyper.pdf 2020-07-30 18:18:52         7019\n",
      "Expected_results/module4/                      2020-08-24 18:05:32            0\n",
      "Expected_results/module4/HNSCC_pca_neg.pdf     2020-08-24 14:47:32         9596\n",
      "Expected_results/module4/HNSCC_pca_cellline.pdf 2020-08-24 14:38:46        30357\n",
      "Expected_results/module4/.ipynb_checkpoints/   2020-08-24 18:05:32            0\n",
      "Expected_results/module4/.ipynb_checkpoints/HNSCC_pca_cellline-checkpoint.pdf 2020-08-24 14:38:46        30357\n",
      "Expected_results/module4/.ipynb_checkpoints/HNSCC_pca_program-checkpoint.pdf 2020-08-24 14:38:44        57978\n",
      "Expected_results/module4/.ipynb_checkpoints/HNSCC_pca_tumor-checkpoint.pdf 2020-08-24 14:38:46        30286\n",
      "Expected_results/module4/.ipynb_checkpoints/melanoma_pca_tumor-checkpoint.pdf 2020-08-24 17:41:16        32392\n",
      "Expected_results/module4/HNSCC_pca_program.pdf 2020-08-24 14:38:44        57978\n",
      "Expected_results/module4/HNSCC_pca_pos.pdf     2020-08-24 14:46:28         9638\n",
      "Expected_results/module4/HNSCC_pca_type.pdf    2020-08-24 14:38:44        30230\n",
      "Expected_results/module4/HNSCC_pca_tumor.pdf   2020-08-24 14:38:46        30286\n",
      "Expected_results/module4/melanoma_pca_cellline.pdf 2020-08-24 17:40:58        32473\n",
      "Expected_results/module4/melanoma_pca_neg.pdf  2020-08-24 17:52:14         9559\n",
      "Expected_results/module4/melanoma_pca_pos.pdf  2020-08-24 17:51:46         8994\n",
      "Expected_results/module4/melanoma_pca_program.pdf 2020-08-24 17:40:22        63345\n",
      "Expected_results/module4/melanoma_pca_tumor.pdf 2020-08-24 17:41:16        32392\n",
      "Expected_results/module4/melanoma_pca_type.pdf 2020-08-24 17:40:38        32297\n",
      "Expected_results/module5/                      2020-08-28 14:20:36            0\n",
      "Expected_results/module5/cna_infer_arm_ccle.RDS 2020-08-28 12:29:36     17398562\n",
      "Expected_results/module5/cna_infer_ccle.RDS    2020-08-28 12:27:42   3087841974\n",
      "Expected_results/module5/cna_subclones_ccle.RDS 2020-08-28 12:32:14       508888\n",
      "Expected_results/module5/clone_assignment_ccle.RDS 2020-08-28 14:20:04       127830\n",
      "Expected_results/module6/                      2020-08-28 16:35:30            0\n",
      "Expected_results/module6/subclones_vs_expr_heterog.pdf 2020-08-28 16:34:54        10470\n",
      "Expected_results/module6/.ipynb_checkpoints/   2020-08-28 16:35:30            0\n",
      "Expected_results/module6/.ipynb_checkpoints/subclones_vs_expr_heterog-checkpoint.pdf 2020-08-28 16:34:54        10470\n",
      "CCLE_heterogeneity_Rfiles/                     2020-08-28 11:52:04            0\n",
      "CCLE_heterogeneity_Rfiles/.ipynb_checkpoints/  2020-07-13 12:36:20            0\n",
      "CCLE_heterogeneity_Rfiles/CCLE_metadata.RDS    2020-07-20 17:27:20         3093\n",
      "CCLE_heterogeneity_Rfiles/CCLE_scRNAseq_CPM.RDS 2020-07-13 12:33:48    499270815\n",
      "CCLE_heterogeneity_Rfiles/tumors_scRNAseq_logTPM.RDS 2020-07-22 18:08:38    163689969\n",
      "CCLE_heterogeneity_Rfiles/metaprograms_tumors_literature.txt 2020-07-26 09:23:42        10021\n",
      "CCLE_heterogeneity_Rfiles/CCLE_copynumber_bygene.RDS 2020-08-28 09:12:26     43300908\n",
      "CCLE_heterogeneity_Rfiles/gene_locus.RDS       2020-08-28 11:51:42       305684\n",
      "Extracting all the files now...\n",
      "Done!\n"
     ]
    }
   ],
   "source": [
    "with ZipFile(ccle_zip, 'r') as zip:\n",
    "    # printing all the contents of the zip file\n",
    "    zip.printdir()\n",
    "  \n",
    "    # extracting all the files\n",
    "    print('Extracting all the files now...')\n",
    "    zip.extractall()\n",
    "    print('Done!')"
   ]
  },
  {
   "cell_type": "code",
   "execution_count": null,
   "id": "c8d436c3",
   "metadata": {},
   "outputs": [],
   "source": []
  }
 ],
 "metadata": {
  "environment": {
   "name": "tf2-gpu.2-5.m71",
   "type": "gcloud",
   "uri": "gcr.io/deeplearning-platform-release/tf2-gpu.2-5:m71"
  },
  "kernelspec": {
   "display_name": "Python 3",
   "language": "python",
   "name": "python3"
  },
  "language_info": {
   "codemirror_mode": {
    "name": "ipython",
    "version": 3
   },
   "file_extension": ".py",
   "mimetype": "text/x-python",
   "name": "python",
   "nbconvert_exporter": "python",
   "pygments_lexer": "ipython3",
   "version": "3.7.10"
  }
 },
 "nbformat": 4,
 "nbformat_minor": 5
}
