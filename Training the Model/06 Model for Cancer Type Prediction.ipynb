{
 "cells": [
  {
   "cell_type": "code",
   "execution_count": 1,
   "id": "4930a04f",
   "metadata": {},
   "outputs": [],
   "source": [
    "import tensorflow as tf\n",
    "import numpy as np\n",
    "import pandas as pd\n",
    "import os \n",
    "import matplotlib.pyplot as plt\n",
    "from tensorflow.keras.utils import to_categorical"
   ]
  },
  {
   "cell_type": "code",
   "execution_count": 2,
   "id": "34f58a77",
   "metadata": {},
   "outputs": [],
   "source": [
    "lab1_arr = np.load('lab1_arr.npy')\n",
    "lab2_arr = np.load('lab2_arr.npy')"
   ]
  },
  {
   "cell_type": "code",
   "execution_count": 3,
   "id": "ba7565da",
   "metadata": {},
   "outputs": [],
   "source": [
    "train_features = np.load('train_features_s.npy'); # this should load all the data sets\n",
    "test_features = np.load('test_features_s.npy');\n",
    "validate_features = np.load('validate_features_s.npy');\n",
    "train_l1= np.load('train_l1.npy'); # l1 l2 such are one hot encoded\n",
    "train_l2= np.load('train_l2.npy');\n",
    "validate_l1= np.load('validate_l1.npy');\n",
    "validate_l2= np.load('validate_l2.npy');\n",
    "test_l2= np.load('test_l2.npy');\n",
    "test_l1= np.load('test_l1.npy'); "
   ]
  },
  {
   "cell_type": "code",
   "execution_count": null,
   "id": "90dcff2c",
   "metadata": {},
   "outputs": [],
   "source": []
  },
  {
   "cell_type": "code",
   "execution_count": 4,
   "id": "2a441be7",
   "metadata": {},
   "outputs": [],
   "source": [
    "train_features = np.nan_to_num(train_features)\n",
    "test_features = np.nan_to_num(test_features)\n",
    "validate_features = np.nan_to_num(validate_features)"
   ]
  },
  {
   "cell_type": "code",
   "execution_count": null,
   "id": "d60de6c4",
   "metadata": {},
   "outputs": [],
   "source": []
  },
  {
   "cell_type": "code",
   "execution_count": null,
   "id": "dc18b13e",
   "metadata": {},
   "outputs": [],
   "source": []
  },
  {
   "cell_type": "code",
   "execution_count": 5,
   "id": "bfbfb84e",
   "metadata": {},
   "outputs": [],
   "source": [
    "def model2():\n",
    "    model = tf.keras.Sequential([tf.keras.layers.Dense(32,activation='relu',input_shape=(31015,),name='d1_32'),\n",
    "                                tf.keras.layers.Dense(64,activation='relu',name='d2_64',kernel_regularizer = 'l2'),\n",
    "                                tf.keras.layers.Dropout(0.2,name='Dropout1_0.2'),\n",
    "                                tf.keras.layers.Dense(64,activation='relu',name='d3_64',kernel_regularizer='l2'),\n",
    "                                tf.keras.layers.Dropout(0.2,name='Dropout2_0.2'),\n",
    "                                tf.keras.layers.Dense(198,activation='softmax',name='output')\n",
    "                                ],name='Model_2')\n",
    "    \n",
    "    model.compile(loss='categorical_crossentropy',optimizer='adam',metrics=['accuracy'])\n",
    "\n",
    "    model.summary()\n",
    "    \n",
    "    return model"
   ]
  },
  {
   "cell_type": "code",
   "execution_count": 20,
   "id": "88adfe22",
   "metadata": {},
   "outputs": [
    {
     "name": "stdout",
     "output_type": "stream",
     "text": [
      "Model: \"Model_2\"\n",
      "_________________________________________________________________\n",
      "Layer (type)                 Output Shape              Param #   \n",
      "=================================================================\n",
      "d1_32 (Dense)                (None, 32)                992512    \n",
      "_________________________________________________________________\n",
      "d2_64 (Dense)                (None, 64)                2112      \n",
      "_________________________________________________________________\n",
      "Dropout1_0.2 (Dropout)       (None, 64)                0         \n",
      "_________________________________________________________________\n",
      "d3_64 (Dense)                (None, 64)                4160      \n",
      "_________________________________________________________________\n",
      "Dropout2_0.2 (Dropout)       (None, 64)                0         \n",
      "_________________________________________________________________\n",
      "output (Dense)               (None, 198)               12870     \n",
      "=================================================================\n",
      "Total params: 1,011,654\n",
      "Trainable params: 1,011,654\n",
      "Non-trainable params: 0\n",
      "_________________________________________________________________\n"
     ]
    }
   ],
   "source": [
    "Cancer_Cell_Line_Predictor = model2()"
   ]
  },
  {
   "cell_type": "code",
   "execution_count": 21,
   "id": "34b22867",
   "metadata": {},
   "outputs": [],
   "source": [
    "checkpoint_path='Checkpoints_ClineS/model2/c6/cp-0020.ckpt'"
   ]
  },
  {
   "cell_type": "code",
   "execution_count": 22,
   "id": "987c28e8",
   "metadata": {},
   "outputs": [
    {
     "data": {
      "text/plain": [
       "<tensorflow.python.training.tracking.util.CheckpointLoadStatus at 0x7f117021b290>"
      ]
     },
     "execution_count": 22,
     "metadata": {},
     "output_type": "execute_result"
    }
   ],
   "source": [
    "Cancer_Cell_Line_Predictor.load_weights(checkpoint_path)"
   ]
  },
  {
   "cell_type": "code",
   "execution_count": null,
   "id": "298a38d7",
   "metadata": {},
   "outputs": [],
   "source": []
  },
  {
   "cell_type": "code",
   "execution_count": 23,
   "id": "2a99b513",
   "metadata": {},
   "outputs": [
    {
     "data": {
      "text/plain": [
       "<tensorflow.python.keras.engine.sequential.Sequential at 0x7f11701c1110>"
      ]
     },
     "execution_count": 23,
     "metadata": {},
     "output_type": "execute_result"
    }
   ],
   "source": [
    "Cancer_Cell_Line_Predictor"
   ]
  },
  {
   "cell_type": "code",
   "execution_count": 24,
   "id": "74e8568c",
   "metadata": {},
   "outputs": [],
   "source": [
    "Cancer_Cell_Line_Predictor.add(tf.keras.layers.Dense(22,activation='softmax',name='output_cancer_Types'))"
   ]
  },
  {
   "cell_type": "code",
   "execution_count": 25,
   "id": "92492aa2",
   "metadata": {},
   "outputs": [],
   "source": [
    "Cancer_Type_Predictor = Cancer_Cell_Line_Predictor"
   ]
  },
  {
   "cell_type": "code",
   "execution_count": 26,
   "id": "be1c422b",
   "metadata": {},
   "outputs": [
    {
     "name": "stdout",
     "output_type": "stream",
     "text": [
      "Epoch 1/8\n",
      "251/251 - 25s - loss: 2.4445 - accuracy: 0.6152 - val_loss: 1.9250 - val_accuracy: 0.7086\n",
      "Epoch 2/8\n",
      "251/251 - 16s - loss: 1.6743 - accuracy: 0.7276 - val_loss: 1.3833 - val_accuracy: 0.8328\n",
      "Epoch 3/8\n",
      "251/251 - 16s - loss: 1.2673 - accuracy: 0.8439 - val_loss: 1.0669 - val_accuracy: 0.8998\n",
      "Epoch 4/8\n",
      "251/251 - 17s - loss: 1.0024 - accuracy: 0.9073 - val_loss: 0.8540 - val_accuracy: 0.9435\n",
      "Epoch 5/8\n",
      "251/251 - 16s - loss: 0.8150 - accuracy: 0.9376 - val_loss: 0.6977 - val_accuracy: 0.9675\n",
      "Epoch 6/8\n",
      "251/251 - 16s - loss: 0.6778 - accuracy: 0.9623 - val_loss: 0.5806 - val_accuracy: 0.9788\n",
      "Epoch 7/8\n",
      "251/251 - 16s - loss: 0.5699 - accuracy: 0.9754 - val_loss: 0.4907 - val_accuracy: 0.9893\n",
      "Epoch 8/8\n",
      "251/251 - 17s - loss: 0.4852 - accuracy: 0.9827 - val_loss: 0.4211 - val_accuracy: 0.9909\n"
     ]
    }
   ],
   "source": [
    "History_Cancer_Type = Cancer_Type_Predictor.fit(train_features,train_l2,epochs=8,batch_size=128,validation_data=(validate_features,validate_l2),verbose=2)"
   ]
  },
  {
   "cell_type": "code",
   "execution_count": null,
   "id": "d6ac0be5",
   "metadata": {},
   "outputs": [],
   "source": []
  },
  {
   "cell_type": "code",
   "execution_count": 27,
   "id": "be1bcb7a",
   "metadata": {},
   "outputs": [
    {
     "name": "stdout",
     "output_type": "stream",
     "text": [
      "335/335 [==============================] - 14s 43ms/step - loss: 0.4190 - accuracy: 0.9915\n"
     ]
    }
   ],
   "source": [
    "Test_Cancer_Type_predictor = Cancer_Type_Predictor.evaluate(test_features, test_l2)"
   ]
  },
  {
   "cell_type": "code",
   "execution_count": 14,
   "id": "2a73e1a7",
   "metadata": {},
   "outputs": [],
   "source": [
    "save_path_cancer_type = 'Cancer_Type_Predictor'"
   ]
  },
  {
   "cell_type": "code",
   "execution_count": 15,
   "id": "a733b7e0",
   "metadata": {},
   "outputs": [],
   "source": [
    "Cancer_Type_Predictor.save('CancerTypePredictor.h5')"
   ]
  },
  {
   "cell_type": "code",
   "execution_count": null,
   "id": "03e00359",
   "metadata": {},
   "outputs": [],
   "source": []
  },
  {
   "cell_type": "code",
   "execution_count": 16,
   "id": "39026579",
   "metadata": {},
   "outputs": [
    {
     "name": "stdout",
     "output_type": "stream",
     "text": [
      "Model: \"Model_2\"\n",
      "_________________________________________________________________\n",
      "Layer (type)                 Output Shape              Param #   \n",
      "=================================================================\n",
      "d1_32 (Dense)                (None, 32)                992512    \n",
      "_________________________________________________________________\n",
      "d2_64 (Dense)                (None, 64)                2112      \n",
      "_________________________________________________________________\n",
      "Dropout1_0.2 (Dropout)       (None, 64)                0         \n",
      "_________________________________________________________________\n",
      "d3_64 (Dense)                (None, 64)                4160      \n",
      "_________________________________________________________________\n",
      "Dropout2_0.2 (Dropout)       (None, 64)                0         \n",
      "_________________________________________________________________\n",
      "output (Dense)               (None, 198)               12870     \n",
      "=================================================================\n",
      "Total params: 1,011,654\n",
      "Trainable params: 1,011,654\n",
      "Non-trainable params: 0\n",
      "_________________________________________________________________\n"
     ]
    }
   ],
   "source": [
    "Cancer_Cell_Line_Predictor = model2()"
   ]
  },
  {
   "cell_type": "code",
   "execution_count": 17,
   "id": "f3dd0a73",
   "metadata": {},
   "outputs": [],
   "source": [
    "checkpoint_path='Checkpoints_ClineS/model2/c6/cp-0020.ckpt'"
   ]
  },
  {
   "cell_type": "code",
   "execution_count": 18,
   "id": "5c2f6c36",
   "metadata": {},
   "outputs": [
    {
     "data": {
      "text/plain": [
       "<tensorflow.python.training.tracking.util.CheckpointLoadStatus at 0x7f117017a790>"
      ]
     },
     "execution_count": 18,
     "metadata": {},
     "output_type": "execute_result"
    }
   ],
   "source": [
    "Cancer_Cell_Line_Predictor.load_weights(checkpoint_path)"
   ]
  },
  {
   "cell_type": "code",
   "execution_count": 19,
   "id": "7458406e",
   "metadata": {},
   "outputs": [],
   "source": [
    "Cancer_Cell_Line_Predictor.save('CancerCellLinePredictor.h5')"
   ]
  },
  {
   "cell_type": "code",
   "execution_count": 22,
   "id": "6a97ad64",
   "metadata": {},
   "outputs": [],
   "source": [
    "# lets also save the col names"
   ]
  },
  {
   "cell_type": "code",
   "execution_count": null,
   "id": "ed5e106a",
   "metadata": {},
   "outputs": [],
   "source": []
  }
 ],
 "metadata": {
  "environment": {
   "name": "tf2-gpu.2-5.m71",
   "type": "gcloud",
   "uri": "gcr.io/deeplearning-platform-release/tf2-gpu.2-5:m71"
  },
  "kernelspec": {
   "display_name": "Python [conda env:root] *",
   "language": "python",
   "name": "conda-root-py"
  },
  "language_info": {
   "codemirror_mode": {
    "name": "ipython",
    "version": 3
   },
   "file_extension": ".py",
   "mimetype": "text/x-python",
   "name": "python",
   "nbconvert_exporter": "python",
   "pygments_lexer": "ipython3",
   "version": "3.7.10"
  }
 },
 "nbformat": 4,
 "nbformat_minor": 5
}
